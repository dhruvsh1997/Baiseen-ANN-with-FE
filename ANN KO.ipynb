{
 "cells": [
  {
   "cell_type": "code",
   "execution_count": 3,
   "id": "2c717b22",
   "metadata": {},
   "outputs": [],
   "source": [
    "import pandas as pd\n",
    "import numpy as np\n",
    "import warnings\n",
    "import matplotlib.pyplot as plt\n",
    "warnings.filterwarnings('ignore')\n",
    "import tensorflow \n",
    "import numpy as np\n",
    "import seaborn as sns\n",
    "import pandas as pd\n",
    "from sklearn.preprocessing import StandardScaler\n",
    "from sklearn.preprocessing import LabelEncoder,OneHotEncoder\n",
    "from sklearn.metrics import confusion_matrix\n",
    "from tensorflow.keras.wrappers.scikit_learn import KerasClassifier\n",
    "from sklearn.model_selection import cross_val_score\n",
    "from sklearn.model_selection import train_test_split\n",
    "from numpy import loadtxt\n",
    "from tensorflow.keras.models import Sequential\n",
    "from sklearn import preprocessing\n",
    "from tensorflow.keras.layers import Dense\n",
    "from tensorflow.keras.layers import LSTM\n",
    "from tensorflow.keras.layers import Dropout\n",
    "from sklearn import metrics\n",
    "from sklearn.metrics import precision_score, recall_score, accuracy_score, f1_score\n",
    "from sklearn.neighbors import KNeighborsClassifier\n",
    "df = pd.read_csv('frdata.csv')"
   ]
  },
  {
   "cell_type": "code",
   "execution_count": 4,
   "id": "5573a141",
   "metadata": {},
   "outputs": [
    {
     "data": {
      "text/plain": [
       "0      2.974513\n",
       "1      3.078794\n",
       "2      2.974513\n",
       "3      2.836200\n",
       "4      4.999411\n",
       "         ...   \n",
       "205    4.983306\n",
       "206    4.999889\n",
       "207    4.983306\n",
       "208    4.999675\n",
       "209    4.998506\n",
       "Name: Six_sigma_outputs, Length: 210, dtype: float64"
      ]
     },
     "execution_count": 4,
     "metadata": {},
     "output_type": "execute_result"
    }
   ],
   "source": [
    "df.iloc[:,96]"
   ]
  },
  {
   "cell_type": "code",
   "execution_count": 5,
   "id": "c6ce154b",
   "metadata": {},
   "outputs": [],
   "source": [
    "X=df.iloc[:,:95].values\n",
    "y=df.iloc[:,96].values"
   ]
  },
  {
   "cell_type": "code",
   "execution_count": 14,
   "id": "727a8215",
   "metadata": {},
   "outputs": [
    {
     "data": {
      "text/html": [
       "<div>\n",
       "<style scoped>\n",
       "    .dataframe tbody tr th:only-of-type {\n",
       "        vertical-align: middle;\n",
       "    }\n",
       "\n",
       "    .dataframe tbody tr th {\n",
       "        vertical-align: top;\n",
       "    }\n",
       "\n",
       "    .dataframe thead th {\n",
       "        text-align: right;\n",
       "    }\n",
       "</style>\n",
       "<table border=\"1\" class=\"dataframe\">\n",
       "  <thead>\n",
       "    <tr style=\"text-align: right;\">\n",
       "      <th></th>\n",
       "      <th>cs1</th>\n",
       "      <th>cs2</th>\n",
       "      <th>cs3</th>\n",
       "      <th>cs4</th>\n",
       "      <th>Six_sigma_outputs</th>\n",
       "    </tr>\n",
       "  </thead>\n",
       "  <tbody>\n",
       "    <tr>\n",
       "      <th>0</th>\n",
       "      <td>4</td>\n",
       "      <td>5</td>\n",
       "      <td>4</td>\n",
       "      <td>4</td>\n",
       "      <td>2.974513</td>\n",
       "    </tr>\n",
       "    <tr>\n",
       "      <th>1</th>\n",
       "      <td>5</td>\n",
       "      <td>5</td>\n",
       "      <td>5</td>\n",
       "      <td>5</td>\n",
       "      <td>3.078794</td>\n",
       "    </tr>\n",
       "    <tr>\n",
       "      <th>2</th>\n",
       "      <td>4</td>\n",
       "      <td>5</td>\n",
       "      <td>4</td>\n",
       "      <td>4</td>\n",
       "      <td>2.974513</td>\n",
       "    </tr>\n",
       "    <tr>\n",
       "      <th>3</th>\n",
       "      <td>3</td>\n",
       "      <td>5</td>\n",
       "      <td>3</td>\n",
       "      <td>3</td>\n",
       "      <td>2.836200</td>\n",
       "    </tr>\n",
       "    <tr>\n",
       "      <th>4</th>\n",
       "      <td>3</td>\n",
       "      <td>5</td>\n",
       "      <td>4</td>\n",
       "      <td>5</td>\n",
       "      <td>4.999411</td>\n",
       "    </tr>\n",
       "    <tr>\n",
       "      <th>...</th>\n",
       "      <td>...</td>\n",
       "      <td>...</td>\n",
       "      <td>...</td>\n",
       "      <td>...</td>\n",
       "      <td>...</td>\n",
       "    </tr>\n",
       "    <tr>\n",
       "      <th>205</th>\n",
       "      <td>4</td>\n",
       "      <td>5</td>\n",
       "      <td>5</td>\n",
       "      <td>5</td>\n",
       "      <td>4.983306</td>\n",
       "    </tr>\n",
       "    <tr>\n",
       "      <th>206</th>\n",
       "      <td>5</td>\n",
       "      <td>5</td>\n",
       "      <td>5</td>\n",
       "      <td>5</td>\n",
       "      <td>4.999889</td>\n",
       "    </tr>\n",
       "    <tr>\n",
       "      <th>207</th>\n",
       "      <td>5</td>\n",
       "      <td>5</td>\n",
       "      <td>5</td>\n",
       "      <td>4</td>\n",
       "      <td>4.983306</td>\n",
       "    </tr>\n",
       "    <tr>\n",
       "      <th>208</th>\n",
       "      <td>5</td>\n",
       "      <td>5</td>\n",
       "      <td>5</td>\n",
       "      <td>5</td>\n",
       "      <td>4.999675</td>\n",
       "    </tr>\n",
       "    <tr>\n",
       "      <th>209</th>\n",
       "      <td>4</td>\n",
       "      <td>5</td>\n",
       "      <td>5</td>\n",
       "      <td>5</td>\n",
       "      <td>4.998506</td>\n",
       "    </tr>\n",
       "  </tbody>\n",
       "</table>\n",
       "<p>210 rows × 5 columns</p>\n",
       "</div>"
      ],
      "text/plain": [
       "     cs1  cs2  cs3  cs4  Six_sigma_outputs\n",
       "0      4    5    4    4           2.974513\n",
       "1      5    5    5    5           3.078794\n",
       "2      4    5    4    4           2.974513\n",
       "3      3    5    3    3           2.836200\n",
       "4      3    5    4    5           4.999411\n",
       "..   ...  ...  ...  ...                ...\n",
       "205    4    5    5    5           4.983306\n",
       "206    5    5    5    5           4.999889\n",
       "207    5    5    5    4           4.983306\n",
       "208    5    5    5    5           4.999675\n",
       "209    4    5    5    5           4.998506\n",
       "\n",
       "[210 rows x 5 columns]"
      ]
     },
     "execution_count": 14,
     "metadata": {},
     "output_type": "execute_result"
    }
   ],
   "source": [
    "dataset=df.iloc[:,df.columns.get_loc('cs1'):df.columns.get_loc('fa1')]\n",
    "dataset=dataset.join(df['Six_sigma_outputs'])\n",
    "dataset"
   ]
  },
  {
   "cell_type": "code",
   "execution_count": 15,
   "id": "c6e8ae74",
   "metadata": {},
   "outputs": [],
   "source": [
    "#Data splitting, for random split or not\n",
    "def dataRandomSet(data, random=None):\n",
    "    if random != None:\n",
    "        train_x, test_x, train_y, test_y = train_test_split(dataset.drop([\"Six_sigma_outputs\"], axis=1), \n",
    "                                                                        dataset[\"Six_sigma_outputs\"], random_state=random, test_size=0.3)\n",
    "        test_y = test_y.reset_index(drop=True)\n",
    "        train_y = train_y.reset_index(drop=True)\n",
    "        train_x = train_x.reset_index(drop=True)\n",
    "        test_x = test_x.reset_index(drop=True)\n",
    "\n",
    "    else:\n",
    "        train_y = dataset.loc[0:210, \"Six_sigma_outputs\"].reset_index(drop=True)\n",
    "        test_y = dataset.loc[210: , \"Six_sigma_outputs\"].reset_index(drop=True)\n",
    "        train_x = dataset.iloc[0:210].drop(\"Six_sigma_outputs\", axis=1).reset_index(drop=True)\n",
    "        test_x = dataset.iloc[210:].drop(\"Six_sigma_outputs\", axis=1).reset_index(drop=True)\n",
    "    return train_x, train_y, test_x, test_y"
   ]
  },
  {
   "cell_type": "code",
   "execution_count": 16,
   "id": "628ab95e",
   "metadata": {},
   "outputs": [
    {
     "data": {
      "text/html": [
       "<div>\n",
       "<style scoped>\n",
       "    .dataframe tbody tr th:only-of-type {\n",
       "        vertical-align: middle;\n",
       "    }\n",
       "\n",
       "    .dataframe tbody tr th {\n",
       "        vertical-align: top;\n",
       "    }\n",
       "\n",
       "    .dataframe thead th {\n",
       "        text-align: right;\n",
       "    }\n",
       "</style>\n",
       "<table border=\"1\" class=\"dataframe\">\n",
       "  <thead>\n",
       "    <tr style=\"text-align: right;\">\n",
       "      <th></th>\n",
       "      <th>cs1</th>\n",
       "      <th>cs2</th>\n",
       "      <th>cs3</th>\n",
       "      <th>cs4</th>\n",
       "    </tr>\n",
       "  </thead>\n",
       "  <tbody>\n",
       "    <tr>\n",
       "      <th>0</th>\n",
       "      <td>2</td>\n",
       "      <td>4</td>\n",
       "      <td>4</td>\n",
       "      <td>5</td>\n",
       "    </tr>\n",
       "    <tr>\n",
       "      <th>1</th>\n",
       "      <td>4</td>\n",
       "      <td>5</td>\n",
       "      <td>5</td>\n",
       "      <td>5</td>\n",
       "    </tr>\n",
       "    <tr>\n",
       "      <th>2</th>\n",
       "      <td>4</td>\n",
       "      <td>5</td>\n",
       "      <td>5</td>\n",
       "      <td>5</td>\n",
       "    </tr>\n",
       "    <tr>\n",
       "      <th>3</th>\n",
       "      <td>5</td>\n",
       "      <td>5</td>\n",
       "      <td>5</td>\n",
       "      <td>5</td>\n",
       "    </tr>\n",
       "    <tr>\n",
       "      <th>4</th>\n",
       "      <td>5</td>\n",
       "      <td>5</td>\n",
       "      <td>5</td>\n",
       "      <td>5</td>\n",
       "    </tr>\n",
       "  </tbody>\n",
       "</table>\n",
       "</div>"
      ],
      "text/plain": [
       "   cs1  cs2  cs3  cs4\n",
       "0    2    4    4    5\n",
       "1    4    5    5    5\n",
       "2    4    5    5    5\n",
       "3    5    5    5    5\n",
       "4    5    5    5    5"
      ]
     },
     "execution_count": 16,
     "metadata": {},
     "output_type": "execute_result"
    }
   ],
   "source": [
    "train_x, train_y, test_x, test_y = dataRandomSet(X, 42) #Set random state to 42. You can set it later.\n",
    "train_x.head()"
   ]
  },
  {
   "cell_type": "code",
   "execution_count": 17,
   "id": "33308154",
   "metadata": {},
   "outputs": [],
   "source": [
    "def print_metrics(labels, preds):\n",
    "    print(\"Precision Score: {}\".format(precision_score(labels,\n",
    "           preds, average = 'weighted')))\n",
    "    print(\"Recall Score: {}\".format(recall_score(labels, preds,\n",
    "           average = 'weighted')))\n",
    "    print(\"Accuracy Score: {}\".format(accuracy_score(labels,\n",
    "           preds)))\n",
    "    print(\"F1 Score: {}\".format(f1_score(labels, preds, average =\n",
    "           'weighted')))\n",
    "#utils.multiclass.type_of_target(test_y.astype('int'))"
   ]
  },
  {
   "cell_type": "code",
   "execution_count": 18,
   "id": "688fd57c",
   "metadata": {},
   "outputs": [],
   "source": [
    "from sklearn import preprocessing\n",
    "from sklearn import utils\n",
    "train_x=train_x.fillna(0)\n",
    "lab_enc = preprocessing.LabelEncoder()\n",
    "y_encod = lab_enc.fit_transform(train_y)"
   ]
  },
  {
   "cell_type": "code",
   "execution_count": 19,
   "id": "d3ced5ba",
   "metadata": {},
   "outputs": [
    {
     "name": "stdout",
     "output_type": "stream",
     "text": [
      "Precision Score: 0.4444444444444444\n",
      "Recall Score: 0.015873015873015872\n",
      "Accuracy Score: 0.015873015873015872\n",
      "F1 Score: 0.030651340996168577\n"
     ]
    }
   ],
   "source": [
    "#Classification using K-NN\n",
    "knn = KNeighborsClassifier(n_neighbors=3)\n",
    "knn.fit(train_x, y_encod)\n",
    "predicted = knn.predict(test_x) \n",
    "#print_metrics(test_y, predicted)\n",
    "ps=precision_score(test_y.astype('int'),predicted, average = 'weighted')\n",
    "print(\"Precision Score: {}\".format(ps))\n",
    "rs=recall_score(test_y.astype('int'), predicted,average = 'weighted')\n",
    "print(\"Recall Score: {}\".format(rs))\n",
    "ac=accuracy_score(test_y.astype('int'),predicted)\n",
    "print(\"Accuracy Score: {}\".format(ac))\n",
    "fs=f1_score(test_y.astype('int'), predicted, average ='weighted')\n",
    "print(\"F1 Score: {}\".format(fs))"
   ]
  },
  {
   "cell_type": "code",
   "execution_count": 20,
   "id": "35612167",
   "metadata": {},
   "outputs": [
    {
     "name": "stdout",
     "output_type": "stream",
     "text": [
      "0.03368802931398481\n"
     ]
    }
   ],
   "source": [
    "a = np.array([[ps, rs], [ac, fs]])\n",
    "print(np.var(a))\n",
    "a=pd.DataFrame(a)"
   ]
  },
  {
   "cell_type": "code",
   "execution_count": 21,
   "id": "ed5c73af",
   "metadata": {},
   "outputs": [
    {
     "name": "stdout",
     "output_type": "stream",
     "text": [
      "Mean:\n",
      " 0    0.230159\n",
      "1    0.023262\n",
      "dtype: float64\n",
      "Median:\n",
      " 0    0.230159\n",
      "1    0.023262\n",
      "dtype: float64\n",
      "Mode:\n",
      "           0         1\n",
      "0  0.015873  0.015873\n",
      "1  0.444444  0.030651\n",
      "Standard Deviation:\n",
      " 0    0.303046\n",
      "1    0.010450\n",
      "dtype: float64\n",
      "Chi Square Test:\n",
      "Power_divergenceResult(statistic=array([0.39901478, 0.00469429]), pvalue=array([0.52759851, 0.94537576]))\n",
      "Correlation :\n",
      "     0    1\n",
      "0  1.0 -1.0\n",
      "1 -1.0  1.0\n"
     ]
    }
   ],
   "source": [
    "from scipy.stats import chisquare\n",
    "print(\"Mean:\\n\",a.mean())\n",
    "print(\"Median:\\n\",a.median())\n",
    "print(\"Mode:\\n\",a.mode())\n",
    "print(\"Standard Deviation:\\n\",a.std())\n",
    "print(\"Chi Square Test:\")\n",
    "print(chisquare(a))\n",
    "print(\"Correlation :\")\n",
    "#print(type(smDf))\n",
    "print(a.corr(method='kendall'))"
   ]
  },
  {
   "cell_type": "code",
   "execution_count": 4,
   "id": "e41dfc0d",
   "metadata": {},
   "outputs": [
    {
     "name": "stderr",
     "output_type": "stream",
     "text": [
      "No handles with labels found to put in legend.\n"
     ]
    },
    {
     "data": {
      "image/png": "[encoded data removed]",
      "text/plain": [
       "<Figure size 432x288 with 1 Axes>"
      ]
     },
     "metadata": {
      "needs_background": "light"
     },
     "output_type": "display_data"
    }
   ],
   "source": [
    "#Step 5:2 forcasting predictions in graph\n",
    "from matplotlib import pyplot as plt\n",
    "\n",
    "trainPredic = [0.4496,0.15873,0.0724,0.306513]\n",
    "plt.plot(trainPredic)\n",
    "\n",
    "plt.ylabel(\"Path Estimates of cs1-4\")\n",
    "plt.xlabel(\"Training Sets\")\n",
    "\n",
    "plt.title('Accuracy Estimation')\n",
    "\n",
    "plt.legend()\n",
    "# Display a figure.\n",
    "plt.show()"
   ]
  },
  {
   "cell_type": "code",
   "execution_count": null,
   "id": "3c41f1da",
   "metadata": {},
   "outputs": [],
   "source": []
  }
 ],
 "metadata": {
  "kernelspec": {
   "display_name": "Python 3 (ipykernel)",
   "language": "python",
   "name": "python3"
  },
  "language_info": {
   "codemirror_mode": {
    "name": "ipython",
    "version": 3
   },
   "file_extension": ".py",
   "mimetype": "text/x-python",
   "name": "python",
   "nbconvert_exporter": "python",
   "pygments_lexer": "ipython3",
   "version": "3.8.8"
  }
 },
 "nbformat": 4,
 "nbformat_minor": 5
}
